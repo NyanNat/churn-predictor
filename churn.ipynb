{
 "cells": [
  {
   "cell_type": "code",
   "execution_count": 1,
   "metadata": {},
   "outputs": [],
   "source": [
    "import pandas as pd\n",
    "import numpy as np\n",
    "from sklearn.model_selection import train_test_split, GridSearchCV, RandomizedSearchCV, cross_val_score\n",
    "from sklearn.linear_model import Ridge\n",
    "import matplotlib.pyplot as plt\n",
    "from sklearn.preprocessing import StandardScaler, OrdinalEncoder\n",
    "from sklearn.linear_model import Lasso\n",
    "from sklearn.feature_selection import SelectKBest\n",
    "from sklearn.feature_selection import f_classif, chi2\n",
    "from sklearn.svm import SVC\n",
    "from sklearn import metrics\n",
    "import seaborn as sns\n",
    "import xgboost as xgb\n",
    "from sklearn.metrics import roc_curve, auc,f1_score,RocCurveDisplay, precision_score, recall_score\n",
    "from sklearn.metrics import mean_absolute_error\n",
    "from sklearn.metrics import roc_auc_score, accuracy_score\n",
    "from sklearn.pipeline import Pipeline\n",
    "from sklearn.compose import ColumnTransformer\n",
    "from sklearn.preprocessing import MinMaxScaler\n",
    "from sklearn.compose import make_column_selector as selector\n",
    "from sklearn.ensemble import RandomForestClassifier"
   ]
  },
  {
   "cell_type": "code",
   "execution_count": 2,
   "metadata": {},
   "outputs": [],
   "source": [
    "pd.set_option('display.float_format', lambda x: '%.4f' % x)"
   ]
  },
  {
   "cell_type": "code",
   "execution_count": 3,
   "metadata": {},
   "outputs": [
    {
     "data": {
      "text/html": [
       "<div>\n",
       "<style scoped>\n",
       "    .dataframe tbody tr th:only-of-type {\n",
       "        vertical-align: middle;\n",
       "    }\n",
       "\n",
       "    .dataframe tbody tr th {\n",
       "        vertical-align: top;\n",
       "    }\n",
       "\n",
       "    .dataframe thead th {\n",
       "        text-align: right;\n",
       "    }\n",
       "</style>\n",
       "<table border=\"1\" class=\"dataframe\">\n",
       "  <thead>\n",
       "    <tr style=\"text-align: right;\">\n",
       "      <th></th>\n",
       "      <th>RowNumber</th>\n",
       "      <th>CustomerId</th>\n",
       "      <th>Surname</th>\n",
       "      <th>CreditScore</th>\n",
       "      <th>Geography</th>\n",
       "      <th>Gender</th>\n",
       "      <th>Age</th>\n",
       "      <th>Tenure</th>\n",
       "      <th>Balance</th>\n",
       "      <th>NumOfProducts</th>\n",
       "      <th>HasCrCard</th>\n",
       "      <th>IsActiveMember</th>\n",
       "      <th>EstimatedSalary</th>\n",
       "      <th>Exited</th>\n",
       "    </tr>\n",
       "  </thead>\n",
       "  <tbody>\n",
       "    <tr>\n",
       "      <th>0</th>\n",
       "      <td>1</td>\n",
       "      <td>15634602</td>\n",
       "      <td>Hargrave</td>\n",
       "      <td>619</td>\n",
       "      <td>France</td>\n",
       "      <td>Female</td>\n",
       "      <td>42</td>\n",
       "      <td>2</td>\n",
       "      <td>0.0000</td>\n",
       "      <td>1</td>\n",
       "      <td>1</td>\n",
       "      <td>1</td>\n",
       "      <td>101348.8800</td>\n",
       "      <td>1</td>\n",
       "    </tr>\n",
       "    <tr>\n",
       "      <th>1</th>\n",
       "      <td>2</td>\n",
       "      <td>15647311</td>\n",
       "      <td>Hill</td>\n",
       "      <td>608</td>\n",
       "      <td>Spain</td>\n",
       "      <td>Female</td>\n",
       "      <td>41</td>\n",
       "      <td>1</td>\n",
       "      <td>83807.8600</td>\n",
       "      <td>1</td>\n",
       "      <td>0</td>\n",
       "      <td>1</td>\n",
       "      <td>112542.5800</td>\n",
       "      <td>0</td>\n",
       "    </tr>\n",
       "    <tr>\n",
       "      <th>2</th>\n",
       "      <td>3</td>\n",
       "      <td>15619304</td>\n",
       "      <td>Onio</td>\n",
       "      <td>502</td>\n",
       "      <td>France</td>\n",
       "      <td>Female</td>\n",
       "      <td>42</td>\n",
       "      <td>8</td>\n",
       "      <td>159660.8000</td>\n",
       "      <td>3</td>\n",
       "      <td>1</td>\n",
       "      <td>0</td>\n",
       "      <td>113931.5700</td>\n",
       "      <td>1</td>\n",
       "    </tr>\n",
       "    <tr>\n",
       "      <th>3</th>\n",
       "      <td>4</td>\n",
       "      <td>15701354</td>\n",
       "      <td>Boni</td>\n",
       "      <td>699</td>\n",
       "      <td>France</td>\n",
       "      <td>Female</td>\n",
       "      <td>39</td>\n",
       "      <td>1</td>\n",
       "      <td>0.0000</td>\n",
       "      <td>2</td>\n",
       "      <td>0</td>\n",
       "      <td>0</td>\n",
       "      <td>93826.6300</td>\n",
       "      <td>0</td>\n",
       "    </tr>\n",
       "    <tr>\n",
       "      <th>4</th>\n",
       "      <td>5</td>\n",
       "      <td>15737888</td>\n",
       "      <td>Mitchell</td>\n",
       "      <td>850</td>\n",
       "      <td>Spain</td>\n",
       "      <td>Female</td>\n",
       "      <td>43</td>\n",
       "      <td>2</td>\n",
       "      <td>125510.8200</td>\n",
       "      <td>1</td>\n",
       "      <td>1</td>\n",
       "      <td>1</td>\n",
       "      <td>79084.1000</td>\n",
       "      <td>0</td>\n",
       "    </tr>\n",
       "    <tr>\n",
       "      <th>...</th>\n",
       "      <td>...</td>\n",
       "      <td>...</td>\n",
       "      <td>...</td>\n",
       "      <td>...</td>\n",
       "      <td>...</td>\n",
       "      <td>...</td>\n",
       "      <td>...</td>\n",
       "      <td>...</td>\n",
       "      <td>...</td>\n",
       "      <td>...</td>\n",
       "      <td>...</td>\n",
       "      <td>...</td>\n",
       "      <td>...</td>\n",
       "      <td>...</td>\n",
       "    </tr>\n",
       "    <tr>\n",
       "      <th>9995</th>\n",
       "      <td>9996</td>\n",
       "      <td>15606229</td>\n",
       "      <td>Obijiaku</td>\n",
       "      <td>771</td>\n",
       "      <td>France</td>\n",
       "      <td>Male</td>\n",
       "      <td>39</td>\n",
       "      <td>5</td>\n",
       "      <td>0.0000</td>\n",
       "      <td>2</td>\n",
       "      <td>1</td>\n",
       "      <td>0</td>\n",
       "      <td>96270.6400</td>\n",
       "      <td>0</td>\n",
       "    </tr>\n",
       "    <tr>\n",
       "      <th>9996</th>\n",
       "      <td>9997</td>\n",
       "      <td>15569892</td>\n",
       "      <td>Johnstone</td>\n",
       "      <td>516</td>\n",
       "      <td>France</td>\n",
       "      <td>Male</td>\n",
       "      <td>35</td>\n",
       "      <td>10</td>\n",
       "      <td>57369.6100</td>\n",
       "      <td>1</td>\n",
       "      <td>1</td>\n",
       "      <td>1</td>\n",
       "      <td>101699.7700</td>\n",
       "      <td>0</td>\n",
       "    </tr>\n",
       "    <tr>\n",
       "      <th>9997</th>\n",
       "      <td>9998</td>\n",
       "      <td>15584532</td>\n",
       "      <td>Liu</td>\n",
       "      <td>709</td>\n",
       "      <td>France</td>\n",
       "      <td>Female</td>\n",
       "      <td>36</td>\n",
       "      <td>7</td>\n",
       "      <td>0.0000</td>\n",
       "      <td>1</td>\n",
       "      <td>0</td>\n",
       "      <td>1</td>\n",
       "      <td>42085.5800</td>\n",
       "      <td>1</td>\n",
       "    </tr>\n",
       "    <tr>\n",
       "      <th>9998</th>\n",
       "      <td>9999</td>\n",
       "      <td>15682355</td>\n",
       "      <td>Sabbatini</td>\n",
       "      <td>772</td>\n",
       "      <td>Germany</td>\n",
       "      <td>Male</td>\n",
       "      <td>42</td>\n",
       "      <td>3</td>\n",
       "      <td>75075.3100</td>\n",
       "      <td>2</td>\n",
       "      <td>1</td>\n",
       "      <td>0</td>\n",
       "      <td>92888.5200</td>\n",
       "      <td>1</td>\n",
       "    </tr>\n",
       "    <tr>\n",
       "      <th>9999</th>\n",
       "      <td>10000</td>\n",
       "      <td>15628319</td>\n",
       "      <td>Walker</td>\n",
       "      <td>792</td>\n",
       "      <td>France</td>\n",
       "      <td>Female</td>\n",
       "      <td>28</td>\n",
       "      <td>4</td>\n",
       "      <td>130142.7900</td>\n",
       "      <td>1</td>\n",
       "      <td>1</td>\n",
       "      <td>0</td>\n",
       "      <td>38190.7800</td>\n",
       "      <td>0</td>\n",
       "    </tr>\n",
       "  </tbody>\n",
       "</table>\n",
       "<p>10000 rows × 14 columns</p>\n",
       "</div>"
      ],
      "text/plain": [
       "      RowNumber  CustomerId    Surname  CreditScore Geography  Gender  Age  \\\n",
       "0             1    15634602   Hargrave          619    France  Female   42   \n",
       "1             2    15647311       Hill          608     Spain  Female   41   \n",
       "2             3    15619304       Onio          502    France  Female   42   \n",
       "3             4    15701354       Boni          699    France  Female   39   \n",
       "4             5    15737888   Mitchell          850     Spain  Female   43   \n",
       "...         ...         ...        ...          ...       ...     ...  ...   \n",
       "9995       9996    15606229   Obijiaku          771    France    Male   39   \n",
       "9996       9997    15569892  Johnstone          516    France    Male   35   \n",
       "9997       9998    15584532        Liu          709    France  Female   36   \n",
       "9998       9999    15682355  Sabbatini          772   Germany    Male   42   \n",
       "9999      10000    15628319     Walker          792    France  Female   28   \n",
       "\n",
       "      Tenure     Balance  NumOfProducts  HasCrCard  IsActiveMember  \\\n",
       "0          2      0.0000              1          1               1   \n",
       "1          1  83807.8600              1          0               1   \n",
       "2          8 159660.8000              3          1               0   \n",
       "3          1      0.0000              2          0               0   \n",
       "4          2 125510.8200              1          1               1   \n",
       "...      ...         ...            ...        ...             ...   \n",
       "9995       5      0.0000              2          1               0   \n",
       "9996      10  57369.6100              1          1               1   \n",
       "9997       7      0.0000              1          0               1   \n",
       "9998       3  75075.3100              2          1               0   \n",
       "9999       4 130142.7900              1          1               0   \n",
       "\n",
       "      EstimatedSalary  Exited  \n",
       "0         101348.8800       1  \n",
       "1         112542.5800       0  \n",
       "2         113931.5700       1  \n",
       "3          93826.6300       0  \n",
       "4          79084.1000       0  \n",
       "...               ...     ...  \n",
       "9995       96270.6400       0  \n",
       "9996      101699.7700       0  \n",
       "9997       42085.5800       1  \n",
       "9998       92888.5200       1  \n",
       "9999       38190.7800       0  \n",
       "\n",
       "[10000 rows x 14 columns]"
      ]
     },
     "execution_count": 3,
     "metadata": {},
     "output_type": "execute_result"
    }
   ],
   "source": [
    "df = pd.read_csv(\"Churn_modelling.csv\")\n",
    "df"
   ]
  },
  {
   "cell_type": "code",
   "execution_count": 4,
   "metadata": {},
   "outputs": [
    {
     "data": {
      "text/html": [
       "<div>\n",
       "<style scoped>\n",
       "    .dataframe tbody tr th:only-of-type {\n",
       "        vertical-align: middle;\n",
       "    }\n",
       "\n",
       "    .dataframe tbody tr th {\n",
       "        vertical-align: top;\n",
       "    }\n",
       "\n",
       "    .dataframe thead th {\n",
       "        text-align: right;\n",
       "    }\n",
       "</style>\n",
       "<table border=\"1\" class=\"dataframe\">\n",
       "  <thead>\n",
       "    <tr style=\"text-align: right;\">\n",
       "      <th></th>\n",
       "      <th>CreditScore</th>\n",
       "      <th>Geography</th>\n",
       "      <th>Gender</th>\n",
       "      <th>Age</th>\n",
       "      <th>Tenure</th>\n",
       "      <th>Balance</th>\n",
       "      <th>NumOfProducts</th>\n",
       "      <th>HasCrCard</th>\n",
       "      <th>IsActiveMember</th>\n",
       "      <th>EstimatedSalary</th>\n",
       "      <th>Exited</th>\n",
       "    </tr>\n",
       "  </thead>\n",
       "  <tbody>\n",
       "    <tr>\n",
       "      <th>0</th>\n",
       "      <td>619</td>\n",
       "      <td>France</td>\n",
       "      <td>Female</td>\n",
       "      <td>42</td>\n",
       "      <td>2</td>\n",
       "      <td>0.0000</td>\n",
       "      <td>1</td>\n",
       "      <td>1</td>\n",
       "      <td>1</td>\n",
       "      <td>101348.8800</td>\n",
       "      <td>1</td>\n",
       "    </tr>\n",
       "    <tr>\n",
       "      <th>1</th>\n",
       "      <td>608</td>\n",
       "      <td>Spain</td>\n",
       "      <td>Female</td>\n",
       "      <td>41</td>\n",
       "      <td>1</td>\n",
       "      <td>83807.8600</td>\n",
       "      <td>1</td>\n",
       "      <td>0</td>\n",
       "      <td>1</td>\n",
       "      <td>112542.5800</td>\n",
       "      <td>0</td>\n",
       "    </tr>\n",
       "    <tr>\n",
       "      <th>2</th>\n",
       "      <td>502</td>\n",
       "      <td>France</td>\n",
       "      <td>Female</td>\n",
       "      <td>42</td>\n",
       "      <td>8</td>\n",
       "      <td>159660.8000</td>\n",
       "      <td>3</td>\n",
       "      <td>1</td>\n",
       "      <td>0</td>\n",
       "      <td>113931.5700</td>\n",
       "      <td>1</td>\n",
       "    </tr>\n",
       "    <tr>\n",
       "      <th>3</th>\n",
       "      <td>699</td>\n",
       "      <td>France</td>\n",
       "      <td>Female</td>\n",
       "      <td>39</td>\n",
       "      <td>1</td>\n",
       "      <td>0.0000</td>\n",
       "      <td>2</td>\n",
       "      <td>0</td>\n",
       "      <td>0</td>\n",
       "      <td>93826.6300</td>\n",
       "      <td>0</td>\n",
       "    </tr>\n",
       "    <tr>\n",
       "      <th>4</th>\n",
       "      <td>850</td>\n",
       "      <td>Spain</td>\n",
       "      <td>Female</td>\n",
       "      <td>43</td>\n",
       "      <td>2</td>\n",
       "      <td>125510.8200</td>\n",
       "      <td>1</td>\n",
       "      <td>1</td>\n",
       "      <td>1</td>\n",
       "      <td>79084.1000</td>\n",
       "      <td>0</td>\n",
       "    </tr>\n",
       "    <tr>\n",
       "      <th>...</th>\n",
       "      <td>...</td>\n",
       "      <td>...</td>\n",
       "      <td>...</td>\n",
       "      <td>...</td>\n",
       "      <td>...</td>\n",
       "      <td>...</td>\n",
       "      <td>...</td>\n",
       "      <td>...</td>\n",
       "      <td>...</td>\n",
       "      <td>...</td>\n",
       "      <td>...</td>\n",
       "    </tr>\n",
       "    <tr>\n",
       "      <th>9995</th>\n",
       "      <td>771</td>\n",
       "      <td>France</td>\n",
       "      <td>Male</td>\n",
       "      <td>39</td>\n",
       "      <td>5</td>\n",
       "      <td>0.0000</td>\n",
       "      <td>2</td>\n",
       "      <td>1</td>\n",
       "      <td>0</td>\n",
       "      <td>96270.6400</td>\n",
       "      <td>0</td>\n",
       "    </tr>\n",
       "    <tr>\n",
       "      <th>9996</th>\n",
       "      <td>516</td>\n",
       "      <td>France</td>\n",
       "      <td>Male</td>\n",
       "      <td>35</td>\n",
       "      <td>10</td>\n",
       "      <td>57369.6100</td>\n",
       "      <td>1</td>\n",
       "      <td>1</td>\n",
       "      <td>1</td>\n",
       "      <td>101699.7700</td>\n",
       "      <td>0</td>\n",
       "    </tr>\n",
       "    <tr>\n",
       "      <th>9997</th>\n",
       "      <td>709</td>\n",
       "      <td>France</td>\n",
       "      <td>Female</td>\n",
       "      <td>36</td>\n",
       "      <td>7</td>\n",
       "      <td>0.0000</td>\n",
       "      <td>1</td>\n",
       "      <td>0</td>\n",
       "      <td>1</td>\n",
       "      <td>42085.5800</td>\n",
       "      <td>1</td>\n",
       "    </tr>\n",
       "    <tr>\n",
       "      <th>9998</th>\n",
       "      <td>772</td>\n",
       "      <td>Germany</td>\n",
       "      <td>Male</td>\n",
       "      <td>42</td>\n",
       "      <td>3</td>\n",
       "      <td>75075.3100</td>\n",
       "      <td>2</td>\n",
       "      <td>1</td>\n",
       "      <td>0</td>\n",
       "      <td>92888.5200</td>\n",
       "      <td>1</td>\n",
       "    </tr>\n",
       "    <tr>\n",
       "      <th>9999</th>\n",
       "      <td>792</td>\n",
       "      <td>France</td>\n",
       "      <td>Female</td>\n",
       "      <td>28</td>\n",
       "      <td>4</td>\n",
       "      <td>130142.7900</td>\n",
       "      <td>1</td>\n",
       "      <td>1</td>\n",
       "      <td>0</td>\n",
       "      <td>38190.7800</td>\n",
       "      <td>0</td>\n",
       "    </tr>\n",
       "  </tbody>\n",
       "</table>\n",
       "<p>10000 rows × 11 columns</p>\n",
       "</div>"
      ],
      "text/plain": [
       "      CreditScore Geography  Gender  Age  Tenure     Balance  NumOfProducts  \\\n",
       "0             619    France  Female   42       2      0.0000              1   \n",
       "1             608     Spain  Female   41       1  83807.8600              1   \n",
       "2             502    France  Female   42       8 159660.8000              3   \n",
       "3             699    France  Female   39       1      0.0000              2   \n",
       "4             850     Spain  Female   43       2 125510.8200              1   \n",
       "...           ...       ...     ...  ...     ...         ...            ...   \n",
       "9995          771    France    Male   39       5      0.0000              2   \n",
       "9996          516    France    Male   35      10  57369.6100              1   \n",
       "9997          709    France  Female   36       7      0.0000              1   \n",
       "9998          772   Germany    Male   42       3  75075.3100              2   \n",
       "9999          792    France  Female   28       4 130142.7900              1   \n",
       "\n",
       "      HasCrCard  IsActiveMember  EstimatedSalary  Exited  \n",
       "0             1               1      101348.8800       1  \n",
       "1             0               1      112542.5800       0  \n",
       "2             1               0      113931.5700       1  \n",
       "3             0               0       93826.6300       0  \n",
       "4             1               1       79084.1000       0  \n",
       "...         ...             ...              ...     ...  \n",
       "9995          1               0       96270.6400       0  \n",
       "9996          1               1      101699.7700       0  \n",
       "9997          0               1       42085.5800       1  \n",
       "9998          1               0       92888.5200       1  \n",
       "9999          1               0       38190.7800       0  \n",
       "\n",
       "[10000 rows x 11 columns]"
      ]
     },
     "execution_count": 4,
     "metadata": {},
     "output_type": "execute_result"
    }
   ],
   "source": [
    "df_dropped = df.drop(['RowNumber', 'CustomerId', 'Surname'], axis = 1)          # Dropped the unecessary part of the dataset that will not contribute to machine learning prediction\n",
    "df_dropped"
   ]
  },
  {
   "cell_type": "markdown",
   "metadata": {},
   "source": [
    "After dropping the unecessary part of the dataset, we will get this sum of dataset. The remaining part of the dataset contains both continous and categorical data. Creditscore, Age, Tenure, Balance, NumOfProducts, and EstimatedSalary are continous, while Geography, Gender, HasCrCard, IsActiveMember are categorical."
   ]
  },
  {
   "cell_type": "code",
   "execution_count": 5,
   "metadata": {},
   "outputs": [
    {
     "data": {
      "text/plain": [
       "False"
      ]
     },
     "execution_count": 5,
     "metadata": {},
     "output_type": "execute_result"
    }
   ],
   "source": [
    "df_dropped.isnull().values.any()        #Check whether there are any values that are null"
   ]
  },
  {
   "cell_type": "code",
   "execution_count": 6,
   "metadata": {},
   "outputs": [
    {
     "name": "stdout",
     "output_type": "stream",
     "text": [
      "Number of people exited: 2037\n",
      "Number of people stayed: 7963\n",
      "Churn rate: 25.58%\n"
     ]
    }
   ],
   "source": [
    "stayed = df_dropped['Exited'].value_counts()[0]         # calculating the number of people that churned in this dataset\n",
    "exited = df_dropped['Exited'].value_counts()[1]\n",
    "print('Number of people exited: {}'.format(exited))\n",
    "print('Number of people stayed: {}'.format(stayed))\n",
    "print('Churn rate: {:.2%}'.format((exited/stayed)))     # Calculating the churn rate"
   ]
  },
  {
   "cell_type": "code",
   "execution_count": 19,
   "metadata": {},
   "outputs": [
    {
     "data": {
      "text/plain": [
       "<AxesSubplot:title={'center':'Tenure Year(s) Distribution'}>"
      ]
     },
     "execution_count": 19,
     "metadata": {},
     "output_type": "execute_result"
    },
    {
     "data": {
      "image/png": "[encoded data removed]",
      "text/plain": [
       "<Figure size 2160x576 with 5 Axes>"
      ]
     },
     "metadata": {
      "needs_background": "light"
     },
     "output_type": "display_data"
    }
   ],
   "source": [
    "exit_credit = []                        # plotting figures for our continous data\n",
    "stay_credit = []\n",
    "exit_balance = []\n",
    "stay_balance = []\n",
    "exit_salary = []\n",
    "stay_salary = []\n",
    "exit_age = []\n",
    "stay_age = []\n",
    "exit_tenure = []\n",
    "stay_tenure = []\n",
    "\n",
    "for index, data in df_dropped.iterrows():\n",
    "    if(data['Exited']):\n",
    "        exit_credit.append(data['CreditScore'])\n",
    "        exit_balance.append(data['Balance'])\n",
    "        exit_salary.append(data['EstimatedSalary'])\n",
    "        exit_age.append(data['Age'])\n",
    "        exit_tenure.append(data['Tenure'])\n",
    "    else:\n",
    "        stay_credit.append(data['CreditScore'])\n",
    "        stay_balance.append(data['Balance'])\n",
    "        stay_salary.append(data['EstimatedSalary'])\n",
    "        stay_age.append(data['Age'])\n",
    "        stay_tenure.append(data['Tenure'])\n",
    "\n",
    "credit_df = pd.Series(exit_credit, name=\"Exit\").to_frame().join(pd.Series(stay_credit, name=\"Stay\"))\n",
    "balance_df = pd.Series(exit_balance, name=\"Exit\").to_frame().join(pd.Series(stay_balance, name=\"Stay\"))\n",
    "salary_df = pd.Series(exit_salary, name=\"Exit\").to_frame().join(pd.Series(stay_salary, name=\"Stay\"))\n",
    "age_df = pd.Series(exit_age, name=\"Exit\").to_frame().join(pd.Series(stay_age, name=\"Stay\"))\n",
    "tenure_df = pd.Series(exit_tenure, name=\"Exit\").to_frame().join(pd.Series(stay_tenure, name=\"Stay\"))\n",
    "\n",
    "f, axes = plt.subplots(1, 5, figsize=(30,8))\n",
    "credit_df.plot(kind=\"box\", boxprops=dict(linestyle='-', linewidth=1.5), flierprops=dict(linestyle='-', linewidth=1.5), medianprops=dict(linestyle='-', linewidth=1.5),\n",
    "               whiskerprops=dict(linestyle='-', linewidth=1.5), capprops=dict(linestyle='-', linewidth=1.5), showfliers=False, grid=True, rot=0, title='Credit Score Distribution', ax=axes[0])\n",
    "balance_df.plot(kind=\"box\", boxprops=dict(linestyle='-', linewidth=1.5), flierprops=dict(linestyle='-', linewidth=1.5), medianprops=dict(linestyle='-', linewidth=1.5),\n",
    "               whiskerprops=dict(linestyle='-', linewidth=1.5), capprops=dict(linestyle='-', linewidth=1.5), showfliers=False, grid=True, rot=0, title='Balance Distribution', ax=axes[1])\n",
    "salary_df.plot(kind=\"box\", boxprops=dict(linestyle='-', linewidth=1.5), flierprops=dict(linestyle='-', linewidth=1.5), medianprops=dict(linestyle='-', linewidth=1.5),\n",
    "               whiskerprops=dict(linestyle='-', linewidth=1.5), capprops=dict(linestyle='-', linewidth=1.5), showfliers=False, grid=True, rot=0, title='Salary Distribution', ax=axes[2])\n",
    "age_df.plot(kind=\"box\", boxprops=dict(linestyle='-', linewidth=1.5), flierprops=dict(linestyle='-', linewidth=1.5), medianprops=dict(linestyle='-', linewidth=1.5),\n",
    "               whiskerprops=dict(linestyle='-', linewidth=1.5), capprops=dict(linestyle='-', linewidth=1.5), showfliers=False, grid=True, rot=0, title='Age Year(s) Distribution', ax=axes[3])\n",
    "tenure_df.plot(kind=\"box\", boxprops=dict(linestyle='-', linewidth=1.5), flierprops=dict(linestyle='-', linewidth=1.5), medianprops=dict(linestyle='-', linewidth=1.5),\n",
    "               whiskerprops=dict(linestyle='-', linewidth=1.5), capprops=dict(linestyle='-', linewidth=1.5), showfliers=False, grid=True, rot=0, title='Tenure Year(s) Distribution', ax=axes[4])"
   ]
  },
  {
   "cell_type": "code",
   "execution_count": 20,
   "metadata": {},
   "outputs": [
    {
     "data": {
      "image/png": "[encoded data removed]",
      "text/plain": [
       "<Figure size 2160x504 with 5 Axes>"
      ]
     },
     "metadata": {
      "needs_background": "light"
     },
     "output_type": "display_data"
    }
   ],
   "source": [
    "f, axes = plt.subplots(1,5, figsize=(30,7))                                         # plotting figures for our categorical data\n",
    "ax1 = sns.countplot(data=df_dropped, x=\"Gender\",hue=\"Exited\", ax=axes[0])\n",
    "ax1.set_title('People Exited and Stayed Based on Gender')\n",
    "ax1.set_xlabel('Gender')\n",
    "ax1.set_ylabel('# of Customers')\n",
    "for label in ax1.containers:\n",
    "    ax1.bar_label(label)\n",
    "ax2 = sns.countplot(data=df_dropped, x=\"Geography\",hue=\"Exited\", ax=axes[1])\n",
    "ax2.set_title('People Exited and Stayed Based on Location')\n",
    "ax2.set_xlabel('Countries')\n",
    "ax2.set_ylabel('# of Customers')\n",
    "for label in ax2.containers:\n",
    "    ax2.bar_label(label)\n",
    "ax3 = sns.countplot(data=df_dropped, x=\"HasCrCard\",hue=\"Exited\", ax=axes[2])\n",
    "ax3.set_title('People Exited and Stayed Based on Credit Card')\n",
    "ax3.set_xlabel('Has Credit Card')\n",
    "ax3.set_ylabel('# of Customers')\n",
    "for label in ax3.containers:\n",
    "    ax3.bar_label(label)\n",
    "ax4 = sns.countplot(data=df_dropped, x=\"IsActiveMember\",hue=\"Exited\", ax=axes[3])\n",
    "ax4.set_title('People Exited and Stayed Based on Num of Products')\n",
    "ax4.set_xlabel('Number of Products')\n",
    "ax4.set_ylabel('# of Customers')\n",
    "for label in ax4.containers:\n",
    "    ax4.bar_label(label)\n",
    "ax5 = sns.countplot(data=df_dropped, x=\"NumOfProducts\",hue=\"Exited\", ax=axes[4])\n",
    "ax5.set_title('People Exited and Stayed Based on Active Member')\n",
    "ax5.set_xlabel('Is an Active Member')\n",
    "ax5.set_ylabel('# of Customers')\n",
    "for label in ax5.containers:\n",
    "    ax5.bar_label(label)"
   ]
  },
  {
   "cell_type": "markdown",
   "metadata": {},
   "source": [
    "# Feature Selection\n",
    "Since there are a lot of different features in the dataset, there are chances that some of the features have small to none impact on the machine learning, and so ANOVA and chi squared and random forest based feature selection are employed to find those features and possibly dropped them."
   ]
  },
  {
   "cell_type": "code",
   "execution_count": 7,
   "metadata": {},
   "outputs": [
    {
     "data": {
      "text/plain": [
       "CreditScore          int64\n",
       "Geography           object\n",
       "Gender              object\n",
       "Age                  int64\n",
       "Tenure               int64\n",
       "Balance            float64\n",
       "NumOfProducts        int64\n",
       "HasCrCard            int64\n",
       "IsActiveMember       int64\n",
       "EstimatedSalary    float64\n",
       "Exited               int64\n",
       "dtype: object"
      ]
     },
     "execution_count": 7,
     "metadata": {},
     "output_type": "execute_result"
    }
   ],
   "source": [
    "df_copy = df_dropped.copy()\n",
    "df_copy.dtypes"
   ]
  },
  {
   "cell_type": "code",
   "execution_count": 8,
   "metadata": {},
   "outputs": [],
   "source": [
    "gender_labels = {'Female':0, 'Male':1}                                                  # Map the categorical data to integer\n",
    "geography_labels = {'France':0, 'Germany':1, 'Spain':2}\n",
    "df_copy[\"Gender\"] = df_copy[\"Gender\"].map(gender_labels).astype('object')\n",
    "df_copy[\"Geography\"] = df_copy[\"Geography\"].map(geography_labels).astype('object')\n",
    "df_copy['HasCrCard'] = df_copy['HasCrCard'].astype('object')\n",
    "df_copy['IsActiveMember'] = df_copy['IsActiveMember'].astype('object')\n",
    "label = df_copy.columns[0:10]"
   ]
  },
  {
   "cell_type": "code",
   "execution_count": 9,
   "metadata": {},
   "outputs": [],
   "source": [
    "column_trans = ColumnTransformer(transformers=                                         # Random forest based feature selection\n",
    "        [('num', MinMaxScaler(), selector(dtype_exclude=\"object\")),\n",
    "        ('cat', OrdinalEncoder(), selector(dtype_include=\"object\"))],\n",
    "        remainder='drop')\n",
    "clf = RandomForestClassifier(random_state=42, n_jobs=10, class_weight='balanced')\n",
    "\n",
    "pipeline = Pipeline([('prep',column_trans), ('clf', clf)])"
   ]
  },
  {
   "cell_type": "code",
   "execution_count": 11,
   "metadata": {},
   "outputs": [
    {
     "data": {
      "text/html": [
       "<style>#sk-container-id-1 {color: black;background-color: white;}#sk-container-id-1 pre{padding: 0;}#sk-container-id-1 div.sk-toggleable {background-color: white;}#sk-container-id-1 label.sk-toggleable__label {cursor: pointer;display: block;width: 100%;margin-bottom: 0;padding: 0.3em;box-sizing: border-box;text-align: center;}#sk-container-id-1 label.sk-toggleable__label-arrow:before {content: \"▸\";float: left;margin-right: 0.25em;color: #696969;}#sk-container-id-1 label.sk-toggleable__label-arrow:hover:before {color: black;}#sk-container-id-1 div.sk-estimator:hover label.sk-toggleable__label-arrow:before {color: black;}#sk-container-id-1 div.sk-toggleable__content {max-height: 0;max-width: 0;overflow: hidden;text-align: left;background-color: #f0f8ff;}#sk-container-id-1 div.sk-toggleable__content pre {margin: 0.2em;color: black;border-radius: 0.25em;background-color: #f0f8ff;}#sk-container-id-1 input.sk-toggleable__control:checked~div.sk-toggleable__content {max-height: 200px;max-width: 100%;overflow: auto;}#sk-container-id-1 input.sk-toggleable__control:checked~label.sk-toggleable__label-arrow:before {content: \"▾\";}#sk-container-id-1 div.sk-estimator input.sk-toggleable__control:checked~label.sk-toggleable__label {background-color: #d4ebff;}#sk-container-id-1 div.sk-label input.sk-toggleable__control:checked~label.sk-toggleable__label {background-color: #d4ebff;}#sk-container-id-1 input.sk-hidden--visually {border: 0;clip: rect(1px 1px 1px 1px);clip: rect(1px, 1px, 1px, 1px);height: 1px;margin: -1px;overflow: hidden;padding: 0;position: absolute;width: 1px;}#sk-container-id-1 div.sk-estimator {font-family: monospace;background-color: #f0f8ff;border: 1px dotted black;border-radius: 0.25em;box-sizing: border-box;margin-bottom: 0.5em;}#sk-container-id-1 div.sk-estimator:hover {background-color: #d4ebff;}#sk-container-id-1 div.sk-parallel-item::after {content: \"\";width: 100%;border-bottom: 1px solid gray;flex-grow: 1;}#sk-container-id-1 div.sk-label:hover label.sk-toggleable__label {background-color: #d4ebff;}#sk-container-id-1 div.sk-serial::before {content: \"\";position: absolute;border-left: 1px solid gray;box-sizing: border-box;top: 0;bottom: 0;left: 50%;z-index: 0;}#sk-container-id-1 div.sk-serial {display: flex;flex-direction: column;align-items: center;background-color: white;padding-right: 0.2em;padding-left: 0.2em;position: relative;}#sk-container-id-1 div.sk-item {position: relative;z-index: 1;}#sk-container-id-1 div.sk-parallel {display: flex;align-items: stretch;justify-content: center;background-color: white;position: relative;}#sk-container-id-1 div.sk-item::before, #sk-container-id-1 div.sk-parallel-item::before {content: \"\";position: absolute;border-left: 1px solid gray;box-sizing: border-box;top: 0;bottom: 0;left: 50%;z-index: -1;}#sk-container-id-1 div.sk-parallel-item {display: flex;flex-direction: column;z-index: 1;position: relative;background-color: white;}#sk-container-id-1 div.sk-parallel-item:first-child::after {align-self: flex-end;width: 50%;}#sk-container-id-1 div.sk-parallel-item:last-child::after {align-self: flex-start;width: 50%;}#sk-container-id-1 div.sk-parallel-item:only-child::after {width: 0;}#sk-container-id-1 div.sk-dashed-wrapped {border: 1px dashed gray;margin: 0 0.4em 0.5em 0.4em;box-sizing: border-box;padding-bottom: 0.4em;background-color: white;}#sk-container-id-1 div.sk-label label {font-family: monospace;font-weight: bold;display: inline-block;line-height: 1.2em;}#sk-container-id-1 div.sk-label-container {text-align: center;}#sk-container-id-1 div.sk-container {/* jupyter's `normalize.less` sets `[hidden] { display: none; }` but bootstrap.min.css set `[hidden] { display: none !important; }` so we also need the `!important` here to be able to override the default hidden behavior on the sphinx rendered scikit-learn.org. See: https://github.com/scikit-learn/scikit-learn/issues/21755 */display: inline-block !important;position: relative;}#sk-container-id-1 div.sk-text-repr-fallback {display: none;}</style><div id=\"sk-container-id-1\" class=\"sk-top-container\"><div class=\"sk-text-repr-fallback\"><pre>RandomForestClassifier(class_weight=&#x27;balanced&#x27;, n_jobs=10, random_state=42)</pre><b>In a Jupyter environment, please rerun this cell to show the HTML representation or trust the notebook. <br />On GitHub, the HTML representation is unable to render, please try loading this page with nbviewer.org.</b></div><div class=\"sk-container\" hidden><div class=\"sk-item\"><div class=\"sk-estimator sk-toggleable\"><input class=\"sk-toggleable__control sk-hidden--visually\" id=\"sk-estimator-id-1\" type=\"checkbox\" checked><label for=\"sk-estimator-id-1\" class=\"sk-toggleable__label sk-toggleable__label-arrow\">RandomForestClassifier</label><div class=\"sk-toggleable__content\"><pre>RandomForestClassifier(class_weight=&#x27;balanced&#x27;, n_jobs=10, random_state=42)</pre></div></div></div></div></div>"
      ],
      "text/plain": [
       "RandomForestClassifier(class_weight='balanced', n_jobs=10, random_state=42)"
      ]
     },
     "execution_count": 11,
     "metadata": {},
     "output_type": "execute_result"
    }
   ],
   "source": [
    "clf.fit(df_copy[label], df['Exited'])"
   ]
  },
  {
   "cell_type": "code",
   "execution_count": 12,
   "metadata": {},
   "outputs": [
    {
     "data": {
      "text/html": [
       "<div>\n",
       "<style scoped>\n",
       "    .dataframe tbody tr th:only-of-type {\n",
       "        vertical-align: middle;\n",
       "    }\n",
       "\n",
       "    .dataframe tbody tr th {\n",
       "        vertical-align: top;\n",
       "    }\n",
       "\n",
       "    .dataframe thead th {\n",
       "        text-align: right;\n",
       "    }\n",
       "</style>\n",
       "<table border=\"1\" class=\"dataframe\">\n",
       "  <thead>\n",
       "    <tr style=\"text-align: right;\">\n",
       "      <th></th>\n",
       "      <th>Anova Score</th>\n",
       "      <th>Chi2 Score</th>\n",
       "      <th>Random Forest</th>\n",
       "    </tr>\n",
       "  </thead>\n",
       "  <tbody>\n",
       "    <tr>\n",
       "      <th>CreditScore</th>\n",
       "      <td>7.3445</td>\n",
       "      <td>105.4035</td>\n",
       "      <td>0.1342</td>\n",
       "    </tr>\n",
       "    <tr>\n",
       "      <th>Geography</th>\n",
       "      <td>12.9331</td>\n",
       "      <td>11.8533</td>\n",
       "      <td>0.0384</td>\n",
       "    </tr>\n",
       "    <tr>\n",
       "      <th>Gender</th>\n",
       "      <td>114.7280</td>\n",
       "      <td>51.5399</td>\n",
       "      <td>0.0209</td>\n",
       "    </tr>\n",
       "    <tr>\n",
       "      <th>Age</th>\n",
       "      <td>886.0633</td>\n",
       "      <td>2300.4175</td>\n",
       "      <td>0.2563</td>\n",
       "    </tr>\n",
       "    <tr>\n",
       "      <th>Tenure</th>\n",
       "      <td>1.9602</td>\n",
       "      <td>3.2705</td>\n",
       "      <td>0.0792</td>\n",
       "    </tr>\n",
       "    <tr>\n",
       "      <th>Balance</th>\n",
       "      <td>142.4738</td>\n",
       "      <td>7151302.7759</td>\n",
       "      <td>0.1414</td>\n",
       "    </tr>\n",
       "    <tr>\n",
       "      <th>NumOfProducts</th>\n",
       "      <td>22.9152</td>\n",
       "      <td>5.0554</td>\n",
       "      <td>0.1334</td>\n",
       "    </tr>\n",
       "    <tr>\n",
       "      <th>HasCrCard</th>\n",
       "      <td>0.5094</td>\n",
       "      <td>0.1500</td>\n",
       "      <td>0.0184</td>\n",
       "    </tr>\n",
       "    <tr>\n",
       "      <th>IsActiveMember</th>\n",
       "      <td>249.8008</td>\n",
       "      <td>118.1994</td>\n",
       "      <td>0.0363</td>\n",
       "    </tr>\n",
       "    <tr>\n",
       "      <th>EstimatedSalary</th>\n",
       "      <td>1.4633</td>\n",
       "      <td>48350.8818</td>\n",
       "      <td>0.1417</td>\n",
       "    </tr>\n",
       "  </tbody>\n",
       "</table>\n",
       "</div>"
      ],
      "text/plain": [
       "                 Anova Score   Chi2 Score  Random Forest\n",
       "CreditScore           7.3445     105.4035         0.1342\n",
       "Geography            12.9331      11.8533         0.0384\n",
       "Gender              114.7280      51.5399         0.0209\n",
       "Age                 886.0633    2300.4175         0.2563\n",
       "Tenure                1.9602       3.2705         0.0792\n",
       "Balance             142.4738 7151302.7759         0.1414\n",
       "NumOfProducts        22.9152       5.0554         0.1334\n",
       "HasCrCard             0.5094       0.1500         0.0184\n",
       "IsActiveMember      249.8008     118.1994         0.0363\n",
       "EstimatedSalary       1.4633   48350.8818         0.1417"
      ]
     },
     "execution_count": 12,
     "metadata": {},
     "output_type": "execute_result"
    }
   ],
   "source": [
    "anova_fs = SelectKBest(score_func=f_classif, k='all')                               # Anova test based feature selection\n",
    "anova_fs.fit(df_copy[label], df['Exited'])\n",
    "chi2_fs = SelectKBest(score_func=chi2, k='all')                                     # Chi squared based feature selection\n",
    "chi2_fs.fit(df_copy[label], df['Exited'])\n",
    "\n",
    "fs_df = pd.DataFrame(data = zip(anova_fs.scores_, chi2_fs.scores_, pipeline['clf'].feature_importances_), index = list(label),columns = ['Anova Score', 'Chi2 Score', 'Random Forest'])\n",
    "fs_df"
   ]
  },
  {
   "cell_type": "markdown",
   "metadata": {},
   "source": [
    "Anova test, Chi Squared test, and random forest based feature selection are utilized. All of these test are used to test for different condition, since the dataset has both numerical and categorical data. In the end, Tenure and HasCreditCard data are dropped since they scored the lowest on the tests leaving us with CreditScore, Geography, Gender, Age, Balance, NumOfProducts, IsActiveMember, EstimatedSalary to be considered."
   ]
  },
  {
   "cell_type": "code",
   "execution_count": 13,
   "metadata": {},
   "outputs": [],
   "source": [
    "df_copy[\"Gender\"] = df_copy[\"Gender\"].astype('int64')\n",
    "df_copy[\"Geography\"] = df_copy[\"Geography\"].astype('int64')\n",
    "df_copy['IsActiveMember'] = df_copy['IsActiveMember'].astype('int64')"
   ]
  },
  {
   "cell_type": "code",
   "execution_count": 14,
   "metadata": {},
   "outputs": [],
   "source": [
    "X = df_copy.iloc[:, [0, 1, 2, 3, 5, 6, 8, 9]]               # dropping Tenure and HasCrCard data for training and testing data\n",
    "y = df_copy['Exited']"
   ]
  },
  {
   "cell_type": "markdown",
   "metadata": {},
   "source": [
    "# Pre-Processing"
   ]
  },
  {
   "cell_type": "code",
   "execution_count": 15,
   "metadata": {},
   "outputs": [],
   "source": [
    "num_ft = ['CreditScore', 'Age', 'Balance', 'NumOfProducts', 'EstimatedSalary']\n",
    "\n",
    "X_train, X_test, y_train, y_test = train_test_split(X, y, test_size=0.3, stratify=y, random_state=42)\n",
    "X_train_scaled = X_train.copy()\n",
    "X_test_scaled = X_test.copy()"
   ]
  },
  {
   "cell_type": "code",
   "execution_count": 16,
   "metadata": {},
   "outputs": [],
   "source": [
    "sc = StandardScaler()                                   # Scaling only the continous data part of the training dataset\n",
    "\n",
    "X_train_scaled[num_ft] = sc.fit_transform(X_train[num_ft])\n",
    "X_test_scaled[num_ft] = sc.fit_transform(X_test[num_ft])"
   ]
  },
  {
   "cell_type": "markdown",
   "metadata": {},
   "source": [
    "# Machine Learning"
   ]
  },
  {
   "cell_type": "code",
   "execution_count": 17,
   "metadata": {},
   "outputs": [],
   "source": [
    "svc = SVC()  # The best hyperparameter for all svm"
   ]
  },
  {
   "cell_type": "code",
   "execution_count": 36,
   "metadata": {},
   "outputs": [
    {
     "name": "stdout",
     "output_type": "stream",
     "text": [
      "Fitting 5 folds for each of 120 candidates, totalling 600 fits\n"
     ]
    },
    {
     "data": {
      "text/plain": [
       "{'C': 4, 'gamma': 0.1, 'kernel': 'rbf'}"
      ]
     },
     "execution_count": 36,
     "metadata": {},
     "output_type": "execute_result"
    }
   ],
   "source": [
    "param_grid = {'C': [0.1, 0.5, 1, 2, 3, 4, 5, 10], \n",
    "              'gamma': [1, 0.1, 0.01, 0.001, 0.0001],\n",
    "              'kernel': ['linear', 'rbf', 'sigmoid']} \n",
    "grid = GridSearchCV(svc, param_grid, refit=True, verbose=1)\n",
    "grid.fit(X_train_scaled, y_train)\n",
    "grid.best_params_"
   ]
  },
  {
   "cell_type": "code",
   "execution_count": 18,
   "metadata": {},
   "outputs": [
    {
     "name": "stdout",
     "output_type": "stream",
     "text": [
      "\n",
      "Performance score using all features:\n",
      "F1: 0.5532381997804611\n",
      "Accuracy: 0.8643333333333333\n",
      "Precision: 0.84\n",
      "Recall: 0.41243862520458263\n",
      "MEA: 0.13566666666666666\n",
      "ROC-AUC: 0.696173268232262\n"
     ]
    }
   ],
   "source": [
    "sv1 = SVC(C=4, gamma=0.1, kernel='rbf')\n",
    "sv1.fit(X_train_scaled, y_train)\n",
    "y_pred_sv1 = sv1.predict(X_test_scaled)\n",
    "\n",
    "print(\"\\nPerformance score using all features:\")\n",
    "print('F1:', f1_score(y_test, y_pred_sv1))\n",
    "print('Accuracy:', accuracy_score(y_test, y_pred_sv1))\n",
    "print('Precision:', precision_score(y_test, y_pred_sv1))\n",
    "print('Recall:', recall_score(y_test, y_pred_sv1))\n",
    "print('MEA:', mean_absolute_error(y_test, y_pred_sv1))\n",
    "print('ROC-AUC:', roc_auc_score(y_test, y_pred_sv1))\n",
    "\n",
    "svm_non = np.array([accuracy_score(y_test, y_pred_sv1), precision_score(y_test, y_pred_sv1), recall_score(y_test, y_pred_sv1), f1_score(y_test, y_pred_sv1), mean_absolute_error(y_test, y_pred_sv1), roc_auc_score(y_test, y_pred_sv1)])\n"
   ]
  },
  {
   "cell_type": "code",
   "execution_count": 19,
   "metadata": {},
   "outputs": [
    {
     "name": "stdout",
     "output_type": "stream",
     "text": [
      "Performance for Support Vector Machine Cross-Validation\n",
      "Mean accuracy:  0.866\n",
      "Variance:  5.955555555555539e-05\n",
      "Standard Deviation:  0.00771722460186014\n"
     ]
    }
   ],
   "source": [
    "score = cross_val_score(sv1, X_test_scaled, y_test, cv=5)\n",
    "print('Performance for Support Vector Machine Cross-Validation')\n",
    "print('Mean accuracy: ',score.mean())\n",
    "print('Variance: ',score.var())\n",
    "print('Standard Deviation: ',score.std())"
   ]
  },
  {
   "cell_type": "code",
   "execution_count": 20,
   "metadata": {},
   "outputs": [
    {
     "name": "stdout",
     "output_type": "stream",
     "text": [
      "Fitting 5 folds for each of 5 candidates, totalling 25 fits\n"
     ]
    },
    {
     "data": {
      "text/html": [
       "<style>#sk-container-id-2 {color: black;background-color: white;}#sk-container-id-2 pre{padding: 0;}#sk-container-id-2 div.sk-toggleable {background-color: white;}#sk-container-id-2 label.sk-toggleable__label {cursor: pointer;display: block;width: 100%;margin-bottom: 0;padding: 0.3em;box-sizing: border-box;text-align: center;}#sk-container-id-2 label.sk-toggleable__label-arrow:before {content: \"▸\";float: left;margin-right: 0.25em;color: #696969;}#sk-container-id-2 label.sk-toggleable__label-arrow:hover:before {color: black;}#sk-container-id-2 div.sk-estimator:hover label.sk-toggleable__label-arrow:before {color: black;}#sk-container-id-2 div.sk-toggleable__content {max-height: 0;max-width: 0;overflow: hidden;text-align: left;background-color: #f0f8ff;}#sk-container-id-2 div.sk-toggleable__content pre {margin: 0.2em;color: black;border-radius: 0.25em;background-color: #f0f8ff;}#sk-container-id-2 input.sk-toggleable__control:checked~div.sk-toggleable__content {max-height: 200px;max-width: 100%;overflow: auto;}#sk-container-id-2 input.sk-toggleable__control:checked~label.sk-toggleable__label-arrow:before {content: \"▾\";}#sk-container-id-2 div.sk-estimator input.sk-toggleable__control:checked~label.sk-toggleable__label {background-color: #d4ebff;}#sk-container-id-2 div.sk-label input.sk-toggleable__control:checked~label.sk-toggleable__label {background-color: #d4ebff;}#sk-container-id-2 input.sk-hidden--visually {border: 0;clip: rect(1px 1px 1px 1px);clip: rect(1px, 1px, 1px, 1px);height: 1px;margin: -1px;overflow: hidden;padding: 0;position: absolute;width: 1px;}#sk-container-id-2 div.sk-estimator {font-family: monospace;background-color: #f0f8ff;border: 1px dotted black;border-radius: 0.25em;box-sizing: border-box;margin-bottom: 0.5em;}#sk-container-id-2 div.sk-estimator:hover {background-color: #d4ebff;}#sk-container-id-2 div.sk-parallel-item::after {content: \"\";width: 100%;border-bottom: 1px solid gray;flex-grow: 1;}#sk-container-id-2 div.sk-label:hover label.sk-toggleable__label {background-color: #d4ebff;}#sk-container-id-2 div.sk-serial::before {content: \"\";position: absolute;border-left: 1px solid gray;box-sizing: border-box;top: 0;bottom: 0;left: 50%;z-index: 0;}#sk-container-id-2 div.sk-serial {display: flex;flex-direction: column;align-items: center;background-color: white;padding-right: 0.2em;padding-left: 0.2em;position: relative;}#sk-container-id-2 div.sk-item {position: relative;z-index: 1;}#sk-container-id-2 div.sk-parallel {display: flex;align-items: stretch;justify-content: center;background-color: white;position: relative;}#sk-container-id-2 div.sk-item::before, #sk-container-id-2 div.sk-parallel-item::before {content: \"\";position: absolute;border-left: 1px solid gray;box-sizing: border-box;top: 0;bottom: 0;left: 50%;z-index: -1;}#sk-container-id-2 div.sk-parallel-item {display: flex;flex-direction: column;z-index: 1;position: relative;background-color: white;}#sk-container-id-2 div.sk-parallel-item:first-child::after {align-self: flex-end;width: 50%;}#sk-container-id-2 div.sk-parallel-item:last-child::after {align-self: flex-start;width: 50%;}#sk-container-id-2 div.sk-parallel-item:only-child::after {width: 0;}#sk-container-id-2 div.sk-dashed-wrapped {border: 1px dashed gray;margin: 0 0.4em 0.5em 0.4em;box-sizing: border-box;padding-bottom: 0.4em;background-color: white;}#sk-container-id-2 div.sk-label label {font-family: monospace;font-weight: bold;display: inline-block;line-height: 1.2em;}#sk-container-id-2 div.sk-label-container {text-align: center;}#sk-container-id-2 div.sk-container {/* jupyter's `normalize.less` sets `[hidden] { display: none; }` but bootstrap.min.css set `[hidden] { display: none !important; }` so we also need the `!important` here to be able to override the default hidden behavior on the sphinx rendered scikit-learn.org. See: https://github.com/scikit-learn/scikit-learn/issues/21755 */display: inline-block !important;position: relative;}#sk-container-id-2 div.sk-text-repr-fallback {display: none;}</style><div id=\"sk-container-id-2\" class=\"sk-top-container\"><div class=\"sk-text-repr-fallback\"><pre>XGBClassifier(base_score=0.4, booster=&#x27;gbtree&#x27;, callbacks=None,\n",
       "              colsample_bylevel=None, colsample_bynode=None,\n",
       "              colsample_bytree=0.7, early_stopping_rounds=None,\n",
       "              enable_categorical=False, eval_metric=None, feature_types=None,\n",
       "              gamma=0.3, gpu_id=None, grow_policy=None, importance_type=None,\n",
       "              interaction_constraints=None, learning_rate=0.3, max_bin=None,\n",
       "              max_cat_threshold=None, max_cat_to_onehot=None,\n",
       "              max_delta_step=None, max_depth=3, max_leaves=None,\n",
       "              min_child_weight=1, missing=nan, monotone_constraints=None,\n",
       "              n_estimators=100, n_jobs=None, num_parallel_tree=None,\n",
       "              predictor=None, random_state=None, ...)</pre><b>In a Jupyter environment, please rerun this cell to show the HTML representation or trust the notebook. <br />On GitHub, the HTML representation is unable to render, please try loading this page with nbviewer.org.</b></div><div class=\"sk-container\" hidden><div class=\"sk-item\"><div class=\"sk-estimator sk-toggleable\"><input class=\"sk-toggleable__control sk-hidden--visually\" id=\"sk-estimator-id-2\" type=\"checkbox\" checked><label for=\"sk-estimator-id-2\" class=\"sk-toggleable__label sk-toggleable__label-arrow\">XGBClassifier</label><div class=\"sk-toggleable__content\"><pre>XGBClassifier(base_score=0.4, booster=&#x27;gbtree&#x27;, callbacks=None,\n",
       "              colsample_bylevel=None, colsample_bynode=None,\n",
       "              colsample_bytree=0.7, early_stopping_rounds=None,\n",
       "              enable_categorical=False, eval_metric=None, feature_types=None,\n",
       "              gamma=0.3, gpu_id=None, grow_policy=None, importance_type=None,\n",
       "              interaction_constraints=None, learning_rate=0.3, max_bin=None,\n",
       "              max_cat_threshold=None, max_cat_to_onehot=None,\n",
       "              max_delta_step=None, max_depth=3, max_leaves=None,\n",
       "              min_child_weight=1, missing=nan, monotone_constraints=None,\n",
       "              n_estimators=100, n_jobs=None, num_parallel_tree=None,\n",
       "              predictor=None, random_state=None, ...)</pre></div></div></div></div></div>"
      ],
      "text/plain": [
       "XGBClassifier(base_score=0.4, booster='gbtree', callbacks=None,\n",
       "              colsample_bylevel=None, colsample_bynode=None,\n",
       "              colsample_bytree=0.7, early_stopping_rounds=None,\n",
       "              enable_categorical=False, eval_metric=None, feature_types=None,\n",
       "              gamma=0.3, gpu_id=None, grow_policy=None, importance_type=None,\n",
       "              interaction_constraints=None, learning_rate=0.3, max_bin=None,\n",
       "              max_cat_threshold=None, max_cat_to_onehot=None,\n",
       "              max_delta_step=None, max_depth=3, max_leaves=None,\n",
       "              min_child_weight=1, missing=nan, monotone_constraints=None,\n",
       "              n_estimators=100, n_jobs=None, num_parallel_tree=None,\n",
       "              predictor=None, random_state=None, ...)"
      ]
     },
     "execution_count": 20,
     "metadata": {},
     "output_type": "execute_result"
    }
   ],
   "source": [
    "params = {'learning_rate': [0.05,0.10,0.15,0.20,0.25,0.30],\n",
    "          'max_depth': [ 3, 4, 5, 6, 8, 10, 12, 15],\n",
    "          'min_child_weight': [ 1, 3, 5, 7 ],\n",
    "          'gamma': [ 0.0, 0.1, 0.2 , 0.3, 0.4 ],\n",
    "          'colsample_bytree': [ 0.3, 0.4, 0.5 , 0.7 ],\n",
    "          'booster': ['gbtree', 'gblinear', 'dart'],\n",
    "          'base_score': [0.10,0.20,0.30,0.40,0.50,0.60]}\n",
    "\n",
    "xg = xgb.XGBClassifier()\n",
    "\n",
    "randSearch = RandomizedSearchCV(xg, param_distributions=params, n_iter=5,scoring='roc_auc',n_jobs=-1,cv=5,verbose=3)\n",
    "randSearch.fit(X_train,y_train)\n",
    "randSearch.best_estimator_"
   ]
  },
  {
   "cell_type": "code",
   "execution_count": 21,
   "metadata": {},
   "outputs": [
    {
     "name": "stdout",
     "output_type": "stream",
     "text": [
      "\n",
      "Performance Score of eXtreme Gradient Boosting:\n",
      "F1: 0.6030456852791879\n",
      "Accuracy: 0.8696666666666667\n",
      "Precision: 0.7941176470588235\n",
      "Recall: 0.486088379705401\n",
      "MEA: 0.13033333333333333\n",
      "ROC-AUC: 0.7269286603424451\n"
     ]
    }
   ],
   "source": [
    "xgb1 = xgb.XGBClassifier(base_score=0.1, booster='dart', colsample_bytree=0.5, learning_rate=0.1, gamma=0.4, max_depth=5, min_child_weight=5, n_estimators=100, objective='binary:logistic')\n",
    "xgb1.fit(X_train, y_train)\n",
    "y_prediction = xgb1.predict(X_test)\n",
    "\n",
    "print(\"\\nPerformance Score of eXtreme Gradient Boosting:\")\n",
    "print('F1:', f1_score(y_test, y_prediction))\n",
    "print('Accuracy:', accuracy_score(y_test, y_prediction))\n",
    "print('Precision:', precision_score(y_test, y_prediction))\n",
    "print('Recall:', recall_score(y_test, y_prediction))\n",
    "print('MEA:', mean_absolute_error(y_test, y_prediction))\n",
    "print('ROC-AUC:', roc_auc_score(y_test, y_prediction))\n",
    "\n",
    "xgb_non = np.array([accuracy_score(y_test, y_prediction), precision_score(y_test, y_prediction), recall_score(y_test, y_prediction), f1_score(y_test, y_prediction), mean_absolute_error(y_test, y_prediction), roc_auc_score(y_test, y_prediction)])"
   ]
  },
  {
   "cell_type": "code",
   "execution_count": 22,
   "metadata": {},
   "outputs": [
    {
     "name": "stdout",
     "output_type": "stream",
     "text": [
      "Performance for XGB Cross-Validation\n",
      "Mean accuracy :  0.8696666666666667\n",
      "Variance:  0.00015711111111111107\n",
      "Standard Deviation:  0.012534397117975443\n"
     ]
    }
   ],
   "source": [
    "score = cross_val_score(xgb1, X_test, y_test, cv=5)\n",
    "print('Performance for XGB Cross-Validation')\n",
    "print('Mean accuracy : ',score.mean())\n",
    "print('Variance: ',score.var())\n",
    "print('Standard Deviation: ',score.std())"
   ]
  },
  {
   "cell_type": "markdown",
   "metadata": {},
   "source": [
    "## Oversampling & Over-Under Sampling\n",
    "\n",
    "Since our dataset is very imbalanced, ovesampling and over-under sampling can be utilized in the training data to improve the performance of our prediction."
   ]
  },
  {
   "cell_type": "markdown",
   "metadata": {},
   "source": [
    "### SMOTE"
   ]
  },
  {
   "cell_type": "code",
   "execution_count": 23,
   "metadata": {},
   "outputs": [],
   "source": [
    "from imblearn.over_sampling import SMOTE\n",
    "\n",
    "sm = SMOTE()\n",
    "X_scaled_train_smot, y_scaled_train_smot = sm.fit_resample(X_train_scaled, y_train)\n",
    "X_train_smot, y_train_smot = sm.fit_resample(X_train, y_train)"
   ]
  },
  {
   "cell_type": "code",
   "execution_count": 24,
   "metadata": {},
   "outputs": [
    {
     "name": "stdout",
     "output_type": "stream",
     "text": [
      "Fitting 5 folds for each of 10 candidates, totalling 50 fits\n"
     ]
    },
    {
     "data": {
      "text/plain": [
       "{'kernel': 'rbf', 'gamma': 0.1, 'C': 0.1}"
      ]
     },
     "execution_count": 24,
     "metadata": {},
     "output_type": "execute_result"
    }
   ],
   "source": [
    "param_grid = {'C': [0.1, 0.5, 1, 2, 3, 4, 5, 6, 7, 8, 9, 10], \n",
    "              'gamma': [1, 0.1, 0.01, 0.001, 0.0001],\n",
    "              'kernel': ['linear', 'rbf', 'sigmoid']} \n",
    "grid = RandomizedSearchCV(svc, param_grid, refit=True, verbose=1)\n",
    "grid.fit(X_scaled_train_smot, y_scaled_train_smot)\n",
    "grid.best_params_"
   ]
  },
  {
   "cell_type": "code",
   "execution_count": 25,
   "metadata": {},
   "outputs": [
    {
     "name": "stdout",
     "output_type": "stream",
     "text": [
      "\n",
      "Performance score using SMOTE SVM:\n",
      "F1: 0.5858838226108682\n",
      "Accuracy: 0.779\n",
      "Precision: 0.47373737373737373\n",
      "Recall: 0.7675941080196399\n",
      "MEA: 0.221\n",
      "ROC-AUC: 0.7747556140767935\n"
     ]
    }
   ],
   "source": [
    "sv_smote = SVC(kernel='rbf', gamma=0.1, C=0.1)\n",
    "sv_smote.fit(X_scaled_train_smot, y_scaled_train_smot)\n",
    "y_pred_svc_smote = sv_smote.predict(X_test_scaled)\n",
    "\n",
    "print(\"\\nPerformance score using SMOTE SVM:\")\n",
    "print('F1:', f1_score(y_test, y_pred_svc_smote))\n",
    "print('Accuracy:', accuracy_score(y_test, y_pred_svc_smote))\n",
    "print('Precision:', precision_score(y_test, y_pred_svc_smote))\n",
    "print('Recall:', recall_score(y_test, y_pred_svc_smote))\n",
    "print('MEA:', mean_absolute_error(y_test, y_pred_svc_smote))\n",
    "print('ROC-AUC:', roc_auc_score(y_test, y_pred_svc_smote))\n",
    "\n",
    "svm_with = np.array([accuracy_score(y_test, y_pred_svc_smote), precision_score(y_test, y_pred_svc_smote), recall_score(y_test, y_pred_svc_smote), f1_score(y_test, y_pred_svc_smote), mean_absolute_error(y_test, y_pred_svc_smote), roc_auc_score(y_test, y_pred_svc_smote)])"
   ]
  },
  {
   "cell_type": "code",
   "execution_count": 31,
   "metadata": {},
   "outputs": [
    {
     "name": "stdout",
     "output_type": "stream",
     "text": [
      "Fitting 5 folds for each of 5 candidates, totalling 25 fits\n"
     ]
    },
    {
     "data": {
      "text/html": [
       "<style>#sk-container-id-4 {color: black;background-color: white;}#sk-container-id-4 pre{padding: 0;}#sk-container-id-4 div.sk-toggleable {background-color: white;}#sk-container-id-4 label.sk-toggleable__label {cursor: pointer;display: block;width: 100%;margin-bottom: 0;padding: 0.3em;box-sizing: border-box;text-align: center;}#sk-container-id-4 label.sk-toggleable__label-arrow:before {content: \"▸\";float: left;margin-right: 0.25em;color: #696969;}#sk-container-id-4 label.sk-toggleable__label-arrow:hover:before {color: black;}#sk-container-id-4 div.sk-estimator:hover label.sk-toggleable__label-arrow:before {color: black;}#sk-container-id-4 div.sk-toggleable__content {max-height: 0;max-width: 0;overflow: hidden;text-align: left;background-color: #f0f8ff;}#sk-container-id-4 div.sk-toggleable__content pre {margin: 0.2em;color: black;border-radius: 0.25em;background-color: #f0f8ff;}#sk-container-id-4 input.sk-toggleable__control:checked~div.sk-toggleable__content {max-height: 200px;max-width: 100%;overflow: auto;}#sk-container-id-4 input.sk-toggleable__control:checked~label.sk-toggleable__label-arrow:before {content: \"▾\";}#sk-container-id-4 div.sk-estimator input.sk-toggleable__control:checked~label.sk-toggleable__label {background-color: #d4ebff;}#sk-container-id-4 div.sk-label input.sk-toggleable__control:checked~label.sk-toggleable__label {background-color: #d4ebff;}#sk-container-id-4 input.sk-hidden--visually {border: 0;clip: rect(1px 1px 1px 1px);clip: rect(1px, 1px, 1px, 1px);height: 1px;margin: -1px;overflow: hidden;padding: 0;position: absolute;width: 1px;}#sk-container-id-4 div.sk-estimator {font-family: monospace;background-color: #f0f8ff;border: 1px dotted black;border-radius: 0.25em;box-sizing: border-box;margin-bottom: 0.5em;}#sk-container-id-4 div.sk-estimator:hover {background-color: #d4ebff;}#sk-container-id-4 div.sk-parallel-item::after {content: \"\";width: 100%;border-bottom: 1px solid gray;flex-grow: 1;}#sk-container-id-4 div.sk-label:hover label.sk-toggleable__label {background-color: #d4ebff;}#sk-container-id-4 div.sk-serial::before {content: \"\";position: absolute;border-left: 1px solid gray;box-sizing: border-box;top: 0;bottom: 0;left: 50%;z-index: 0;}#sk-container-id-4 div.sk-serial {display: flex;flex-direction: column;align-items: center;background-color: white;padding-right: 0.2em;padding-left: 0.2em;position: relative;}#sk-container-id-4 div.sk-item {position: relative;z-index: 1;}#sk-container-id-4 div.sk-parallel {display: flex;align-items: stretch;justify-content: center;background-color: white;position: relative;}#sk-container-id-4 div.sk-item::before, #sk-container-id-4 div.sk-parallel-item::before {content: \"\";position: absolute;border-left: 1px solid gray;box-sizing: border-box;top: 0;bottom: 0;left: 50%;z-index: -1;}#sk-container-id-4 div.sk-parallel-item {display: flex;flex-direction: column;z-index: 1;position: relative;background-color: white;}#sk-container-id-4 div.sk-parallel-item:first-child::after {align-self: flex-end;width: 50%;}#sk-container-id-4 div.sk-parallel-item:last-child::after {align-self: flex-start;width: 50%;}#sk-container-id-4 div.sk-parallel-item:only-child::after {width: 0;}#sk-container-id-4 div.sk-dashed-wrapped {border: 1px dashed gray;margin: 0 0.4em 0.5em 0.4em;box-sizing: border-box;padding-bottom: 0.4em;background-color: white;}#sk-container-id-4 div.sk-label label {font-family: monospace;font-weight: bold;display: inline-block;line-height: 1.2em;}#sk-container-id-4 div.sk-label-container {text-align: center;}#sk-container-id-4 div.sk-container {/* jupyter's `normalize.less` sets `[hidden] { display: none; }` but bootstrap.min.css set `[hidden] { display: none !important; }` so we also need the `!important` here to be able to override the default hidden behavior on the sphinx rendered scikit-learn.org. See: https://github.com/scikit-learn/scikit-learn/issues/21755 */display: inline-block !important;position: relative;}#sk-container-id-4 div.sk-text-repr-fallback {display: none;}</style><div id=\"sk-container-id-4\" class=\"sk-top-container\"><div class=\"sk-text-repr-fallback\"><pre>XGBClassifier(base_score=0.2, booster=&#x27;dart&#x27;, callbacks=None,\n",
       "              colsample_bylevel=None, colsample_bynode=None,\n",
       "              colsample_bytree=0.7, early_stopping_rounds=None,\n",
       "              enable_categorical=False, eval_metric=None, feature_types=None,\n",
       "              gamma=0.0, gpu_id=None, grow_policy=None, importance_type=None,\n",
       "              interaction_constraints=None, learning_rate=0.1, max_bin=None,\n",
       "              max_cat_threshold=None, max_cat_to_onehot=None,\n",
       "              max_delta_step=None, max_depth=4, max_leaves=None,\n",
       "              min_child_weight=3, missing=nan, monotone_constraints=None,\n",
       "              n_estimators=100, n_jobs=None, num_parallel_tree=None,\n",
       "              predictor=None, random_state=None, ...)</pre><b>In a Jupyter environment, please rerun this cell to show the HTML representation or trust the notebook. <br />On GitHub, the HTML representation is unable to render, please try loading this page with nbviewer.org.</b></div><div class=\"sk-container\" hidden><div class=\"sk-item\"><div class=\"sk-estimator sk-toggleable\"><input class=\"sk-toggleable__control sk-hidden--visually\" id=\"sk-estimator-id-4\" type=\"checkbox\" checked><label for=\"sk-estimator-id-4\" class=\"sk-toggleable__label sk-toggleable__label-arrow\">XGBClassifier</label><div class=\"sk-toggleable__content\"><pre>XGBClassifier(base_score=0.2, booster=&#x27;dart&#x27;, callbacks=None,\n",
       "              colsample_bylevel=None, colsample_bynode=None,\n",
       "              colsample_bytree=0.7, early_stopping_rounds=None,\n",
       "              enable_categorical=False, eval_metric=None, feature_types=None,\n",
       "              gamma=0.0, gpu_id=None, grow_policy=None, importance_type=None,\n",
       "              interaction_constraints=None, learning_rate=0.1, max_bin=None,\n",
       "              max_cat_threshold=None, max_cat_to_onehot=None,\n",
       "              max_delta_step=None, max_depth=4, max_leaves=None,\n",
       "              min_child_weight=3, missing=nan, monotone_constraints=None,\n",
       "              n_estimators=100, n_jobs=None, num_parallel_tree=None,\n",
       "              predictor=None, random_state=None, ...)</pre></div></div></div></div></div>"
      ],
      "text/plain": [
       "XGBClassifier(base_score=0.2, booster='dart', callbacks=None,\n",
       "              colsample_bylevel=None, colsample_bynode=None,\n",
       "              colsample_bytree=0.7, early_stopping_rounds=None,\n",
       "              enable_categorical=False, eval_metric=None, feature_types=None,\n",
       "              gamma=0.0, gpu_id=None, grow_policy=None, importance_type=None,\n",
       "              interaction_constraints=None, learning_rate=0.1, max_bin=None,\n",
       "              max_cat_threshold=None, max_cat_to_onehot=None,\n",
       "              max_delta_step=None, max_depth=4, max_leaves=None,\n",
       "              min_child_weight=3, missing=nan, monotone_constraints=None,\n",
       "              n_estimators=100, n_jobs=None, num_parallel_tree=None,\n",
       "              predictor=None, random_state=None, ...)"
      ]
     },
     "execution_count": 31,
     "metadata": {},
     "output_type": "execute_result"
    }
   ],
   "source": [
    "params = {'learning_rate': [0.05,0.10,0.15,0.20,0.25,0.30],\n",
    "          'max_depth': [ 3, 4, 5, 6, 8, 10, 12, 15],\n",
    "          'min_child_weight': [ 1, 3, 5, 7 ],\n",
    "          'gamma': [ 0.0, 0.1, 0.2 , 0.3, 0.4 ],\n",
    "          'colsample_bytree': [ 0.3, 0.4, 0.5 , 0.7 ],\n",
    "          'booster': ['gbtree', 'gblinear', 'dart'],\n",
    "          'base_score': [0.10,0.20,0.30,0.40,0.50,0.60]}\n",
    "\n",
    "randSearch = RandomizedSearchCV(xg,param_distributions=params,n_iter=5,scoring='roc_auc',n_jobs=-1,cv=5,verbose=3)\n",
    "randSearch.fit(X_train_smot,y_train_smot)\n",
    "randSearch.best_estimator_"
   ]
  },
  {
   "cell_type": "code",
   "execution_count": 32,
   "metadata": {},
   "outputs": [
    {
     "name": "stdout",
     "output_type": "stream",
     "text": [
      "\n",
      "Performance score using SMOTE XGB:\n",
      "F1: 0.6111493461803165\n",
      "Accuracy: 0.8116666666666666\n",
      "Precision: 0.5273159144893111\n",
      "Recall: 0.7266775777414075\n",
      "MEA: 0.18833333333333332\n",
      "ROC-AUC: 0.7800403376358775\n"
     ]
    }
   ],
   "source": [
    "xgb_smote = xgb.XGBClassifier(base_score=0.2, booster='dart', colsample_bytree=0.7, learning_rate=0.1, gamma=0, max_depth=4, min_child_weight=3, n_estimators=100, objective='binary:logistic')\n",
    "xgb_smote.fit(X_train_smot, y_train_smot)\n",
    "y_xgb_smote = xgb_smote.predict(X_test)\n",
    "\n",
    "print(\"\\nPerformance score using SMOTE XGB:\")\n",
    "print('F1:', f1_score(y_test, y_xgb_smote))\n",
    "print('Accuracy:', accuracy_score(y_test, y_xgb_smote))\n",
    "print('Precision:', precision_score(y_test, y_xgb_smote))\n",
    "print('Recall:', recall_score(y_test, y_xgb_smote))\n",
    "print('MEA:', mean_absolute_error(y_test, y_xgb_smote))\n",
    "print('ROC-AUC:', roc_auc_score(y_test, y_xgb_smote))\n",
    "\n",
    "xgb_with = np.array([accuracy_score(y_test, y_xgb_smote), precision_score(y_test, y_xgb_smote), recall_score(y_test, y_xgb_smote), f1_score(y_test, y_xgb_smote), mean_absolute_error(y_test, y_xgb_smote), roc_auc_score(y_test, y_xgb_smote)])"
   ]
  },
  {
   "cell_type": "markdown",
   "metadata": {},
   "source": [
    "### SMOTE- Tomek Links"
   ]
  },
  {
   "cell_type": "code",
   "execution_count": 49,
   "metadata": {},
   "outputs": [],
   "source": [
    "from imblearn.combine import SMOTETomek\n",
    "from imblearn.under_sampling import TomekLinks\n",
    "\n",
    "sm_tm = SMOTETomek(tomek=TomekLinks(sampling_strategy='majority'))\n",
    "\n",
    "X_scaled_train_smtm, y_scaled_train_smtm = sm_tm.fit_resample(X_train_scaled, y_train)\n",
    "X_train_smtm, y_train_smtm = sm_tm.fit_resample(X_train, y_train)"
   ]
  },
  {
   "cell_type": "code",
   "execution_count": 50,
   "metadata": {},
   "outputs": [
    {
     "name": "stdout",
     "output_type": "stream",
     "text": [
      "Fitting 5 folds for each of 10 candidates, totalling 50 fits\n"
     ]
    },
    {
     "data": {
      "text/plain": [
       "{'kernel': 'rbf', 'gamma': 1, 'C': 0.1}"
      ]
     },
     "execution_count": 50,
     "metadata": {},
     "output_type": "execute_result"
    }
   ],
   "source": [
    "param_grid = {'C': [0.1, 0.5, 1, 2, 3, 4, 5, 6, 7, 8, 9, 10], \n",
    "              'gamma': [1, 0.1, 0.01, 0.001, 0.0001],\n",
    "              'kernel': ['linear', 'rbf', 'sigmoid']} \n",
    "grid = RandomizedSearchCV(svc, param_grid, refit=True, verbose=1)\n",
    "grid.fit(X_scaled_train_smtm, y_scaled_train_smtm)\n",
    "grid.best_params_"
   ]
  },
  {
   "cell_type": "code",
   "execution_count": 51,
   "metadata": {},
   "outputs": [
    {
     "name": "stdout",
     "output_type": "stream",
     "text": [
      "\n",
      "Performance score using SMOTE SVM:\n",
      "F1: 0.5768194070080863\n",
      "Accuracy: 0.7906666666666666\n",
      "Precision: 0.49026345933562426\n",
      "Recall: 0.7004909983633388\n",
      "MEA: 0.20933333333333334\n",
      "ROC-AUC: 0.7571102961678562\n"
     ]
    }
   ],
   "source": [
    "sv_smote_tm = SVC(kernel='rbf', gamma=1, C=0.1)\n",
    "sv_smote_tm.fit(X_scaled_train_smtm, y_scaled_train_smtm)\n",
    "y_pred_svc_smote_tm = sv_smote_tm.predict(X_test_scaled)\n",
    "\n",
    "print(\"\\nPerformance score using SMOTE SVM:\")\n",
    "print('F1:', f1_score(y_test, y_pred_svc_smote_tm))\n",
    "print('Accuracy:', accuracy_score(y_test, y_pred_svc_smote_tm))\n",
    "print('Precision:', precision_score(y_test, y_pred_svc_smote_tm))\n",
    "print('Recall:', recall_score(y_test, y_pred_svc_smote_tm))\n",
    "print('MEA:', mean_absolute_error(y_test, y_pred_svc_smote_tm))\n",
    "print('ROC-AUC:', roc_auc_score(y_test, y_pred_svc_smote_tm))\n",
    "\n",
    "svm_tm = np.array([accuracy_score(y_test, y_pred_svc_smote_tm), precision_score(y_test, y_pred_svc_smote_tm), recall_score(y_test, y_pred_svc_smote_tm), f1_score(y_test, y_pred_svc_smote_tm), mean_absolute_error(y_test, y_pred_svc_smote_tm), roc_auc_score(y_test, y_pred_svc_smote_tm)])"
   ]
  },
  {
   "cell_type": "code",
   "execution_count": 62,
   "metadata": {},
   "outputs": [
    {
     "name": "stdout",
     "output_type": "stream",
     "text": [
      "Fitting 5 folds for each of 5 candidates, totalling 25 fits\n"
     ]
    },
    {
     "data": {
      "text/html": [
       "<style>#sk-container-id-11 {color: black;background-color: white;}#sk-container-id-11 pre{padding: 0;}#sk-container-id-11 div.sk-toggleable {background-color: white;}#sk-container-id-11 label.sk-toggleable__label {cursor: pointer;display: block;width: 100%;margin-bottom: 0;padding: 0.3em;box-sizing: border-box;text-align: center;}#sk-container-id-11 label.sk-toggleable__label-arrow:before {content: \"▸\";float: left;margin-right: 0.25em;color: #696969;}#sk-container-id-11 label.sk-toggleable__label-arrow:hover:before {color: black;}#sk-container-id-11 div.sk-estimator:hover label.sk-toggleable__label-arrow:before {color: black;}#sk-container-id-11 div.sk-toggleable__content {max-height: 0;max-width: 0;overflow: hidden;text-align: left;background-color: #f0f8ff;}#sk-container-id-11 div.sk-toggleable__content pre {margin: 0.2em;color: black;border-radius: 0.25em;background-color: #f0f8ff;}#sk-container-id-11 input.sk-toggleable__control:checked~div.sk-toggleable__content {max-height: 200px;max-width: 100%;overflow: auto;}#sk-container-id-11 input.sk-toggleable__control:checked~label.sk-toggleable__label-arrow:before {content: \"▾\";}#sk-container-id-11 div.sk-estimator input.sk-toggleable__control:checked~label.sk-toggleable__label {background-color: #d4ebff;}#sk-container-id-11 div.sk-label input.sk-toggleable__control:checked~label.sk-toggleable__label {background-color: #d4ebff;}#sk-container-id-11 input.sk-hidden--visually {border: 0;clip: rect(1px 1px 1px 1px);clip: rect(1px, 1px, 1px, 1px);height: 1px;margin: -1px;overflow: hidden;padding: 0;position: absolute;width: 1px;}#sk-container-id-11 div.sk-estimator {font-family: monospace;background-color: #f0f8ff;border: 1px dotted black;border-radius: 0.25em;box-sizing: border-box;margin-bottom: 0.5em;}#sk-container-id-11 div.sk-estimator:hover {background-color: #d4ebff;}#sk-container-id-11 div.sk-parallel-item::after {content: \"\";width: 100%;border-bottom: 1px solid gray;flex-grow: 1;}#sk-container-id-11 div.sk-label:hover label.sk-toggleable__label {background-color: #d4ebff;}#sk-container-id-11 div.sk-serial::before {content: \"\";position: absolute;border-left: 1px solid gray;box-sizing: border-box;top: 0;bottom: 0;left: 50%;z-index: 0;}#sk-container-id-11 div.sk-serial {display: flex;flex-direction: column;align-items: center;background-color: white;padding-right: 0.2em;padding-left: 0.2em;position: relative;}#sk-container-id-11 div.sk-item {position: relative;z-index: 1;}#sk-container-id-11 div.sk-parallel {display: flex;align-items: stretch;justify-content: center;background-color: white;position: relative;}#sk-container-id-11 div.sk-item::before, #sk-container-id-11 div.sk-parallel-item::before {content: \"\";position: absolute;border-left: 1px solid gray;box-sizing: border-box;top: 0;bottom: 0;left: 50%;z-index: -1;}#sk-container-id-11 div.sk-parallel-item {display: flex;flex-direction: column;z-index: 1;position: relative;background-color: white;}#sk-container-id-11 div.sk-parallel-item:first-child::after {align-self: flex-end;width: 50%;}#sk-container-id-11 div.sk-parallel-item:last-child::after {align-self: flex-start;width: 50%;}#sk-container-id-11 div.sk-parallel-item:only-child::after {width: 0;}#sk-container-id-11 div.sk-dashed-wrapped {border: 1px dashed gray;margin: 0 0.4em 0.5em 0.4em;box-sizing: border-box;padding-bottom: 0.4em;background-color: white;}#sk-container-id-11 div.sk-label label {font-family: monospace;font-weight: bold;display: inline-block;line-height: 1.2em;}#sk-container-id-11 div.sk-label-container {text-align: center;}#sk-container-id-11 div.sk-container {/* jupyter's `normalize.less` sets `[hidden] { display: none; }` but bootstrap.min.css set `[hidden] { display: none !important; }` so we also need the `!important` here to be able to override the default hidden behavior on the sphinx rendered scikit-learn.org. See: https://github.com/scikit-learn/scikit-learn/issues/21755 */display: inline-block !important;position: relative;}#sk-container-id-11 div.sk-text-repr-fallback {display: none;}</style><div id=\"sk-container-id-11\" class=\"sk-top-container\"><div class=\"sk-text-repr-fallback\"><pre>XGBClassifier(base_score=0.2, booster=&#x27;gbtree&#x27;, callbacks=None,\n",
       "              colsample_bylevel=None, colsample_bynode=None,\n",
       "              colsample_bytree=0.4, early_stopping_rounds=None,\n",
       "              enable_categorical=False, eval_metric=None, feature_types=None,\n",
       "              gamma=0.4, gpu_id=None, grow_policy=None, importance_type=None,\n",
       "              interaction_constraints=None, learning_rate=0.2, max_bin=None,\n",
       "              max_cat_threshold=None, max_cat_to_onehot=None,\n",
       "              max_delta_step=None, max_depth=8, max_leaves=None,\n",
       "              min_child_weight=7, missing=nan, monotone_constraints=None,\n",
       "              n_estimators=100, n_jobs=None, num_parallel_tree=None,\n",
       "              predictor=None, random_state=None, ...)</pre><b>In a Jupyter environment, please rerun this cell to show the HTML representation or trust the notebook. <br />On GitHub, the HTML representation is unable to render, please try loading this page with nbviewer.org.</b></div><div class=\"sk-container\" hidden><div class=\"sk-item\"><div class=\"sk-estimator sk-toggleable\"><input class=\"sk-toggleable__control sk-hidden--visually\" id=\"sk-estimator-id-11\" type=\"checkbox\" checked><label for=\"sk-estimator-id-11\" class=\"sk-toggleable__label sk-toggleable__label-arrow\">XGBClassifier</label><div class=\"sk-toggleable__content\"><pre>XGBClassifier(base_score=0.2, booster=&#x27;gbtree&#x27;, callbacks=None,\n",
       "              colsample_bylevel=None, colsample_bynode=None,\n",
       "              colsample_bytree=0.4, early_stopping_rounds=None,\n",
       "              enable_categorical=False, eval_metric=None, feature_types=None,\n",
       "              gamma=0.4, gpu_id=None, grow_policy=None, importance_type=None,\n",
       "              interaction_constraints=None, learning_rate=0.2, max_bin=None,\n",
       "              max_cat_threshold=None, max_cat_to_onehot=None,\n",
       "              max_delta_step=None, max_depth=8, max_leaves=None,\n",
       "              min_child_weight=7, missing=nan, monotone_constraints=None,\n",
       "              n_estimators=100, n_jobs=None, num_parallel_tree=None,\n",
       "              predictor=None, random_state=None, ...)</pre></div></div></div></div></div>"
      ],
      "text/plain": [
       "XGBClassifier(base_score=0.2, booster='gbtree', callbacks=None,\n",
       "              colsample_bylevel=None, colsample_bynode=None,\n",
       "              colsample_bytree=0.4, early_stopping_rounds=None,\n",
       "              enable_categorical=False, eval_metric=None, feature_types=None,\n",
       "              gamma=0.4, gpu_id=None, grow_policy=None, importance_type=None,\n",
       "              interaction_constraints=None, learning_rate=0.2, max_bin=None,\n",
       "              max_cat_threshold=None, max_cat_to_onehot=None,\n",
       "              max_delta_step=None, max_depth=8, max_leaves=None,\n",
       "              min_child_weight=7, missing=nan, monotone_constraints=None,\n",
       "              n_estimators=100, n_jobs=None, num_parallel_tree=None,\n",
       "              predictor=None, random_state=None, ...)"
      ]
     },
     "execution_count": 62,
     "metadata": {},
     "output_type": "execute_result"
    }
   ],
   "source": [
    "params = {'learning_rate': [0.05,0.10,0.15,0.20,0.25,0.30],\n",
    "          'max_depth': [ 3, 4, 5, 6, 8, 10, 12, 15],\n",
    "          'min_child_weight': [ 1, 3, 5, 7 ],\n",
    "          'gamma': [ 0.0, 0.1, 0.2 , 0.3, 0.4 ],\n",
    "          'colsample_bytree': [ 0.3, 0.4, 0.5 , 0.7 ],\n",
    "          'booster': ['gbtree', 'gblinear', 'dart'],\n",
    "          'base_score': [0.10,0.20,0.30,0.40,0.50,0.60]}\n",
    "\n",
    "randSearch = RandomizedSearchCV(xg,param_distributions=params,n_iter=5,scoring='roc_auc',n_jobs=-1,cv=5,verbose=3)\n",
    "randSearch.fit(X_train_smtm, y_train_smtm )\n",
    "randSearch.best_estimator_"
   ]
  },
  {
   "cell_type": "code",
   "execution_count": 93,
   "metadata": {},
   "outputs": [
    {
     "name": "stdout",
     "output_type": "stream",
     "text": [
      "\n",
      "Performance score using SMOTE XGB:\n",
      "F1: 0.606180144641683\n",
      "Accuracy: 0.8003333333333333\n",
      "Precision: 0.5065934065934066\n",
      "Recall: 0.7545008183306056\n",
      "MEA: 0.19966666666666666\n",
      "ROC-AUC: 0.7832780357873204\n"
     ]
    }
   ],
   "source": [
    "xgb_smote_tm = xgb.XGBClassifier(base_score=0.2, booster='gbtree', colsample_bytree=0.4, learning_rate=0.15, gamma=0.0, max_depth=8, min_child_weight=7, n_estimators=100, objective='binary:logistic')\n",
    "xgb_smote_tm.fit(X_train_smtm, y_train_smtm)\n",
    "y_xgb_smote_tm = xgb_smote_tm.predict(X_test)\n",
    "\n",
    "print(\"\\nPerformance score using SMOTE XGB:\")\n",
    "print('F1:', f1_score(y_test, y_xgb_smote_tm))\n",
    "print('Accuracy:', accuracy_score(y_test, y_xgb_smote_tm))\n",
    "print('Precision:', precision_score(y_test, y_xgb_smote_tm))\n",
    "print('Recall:', recall_score(y_test, y_xgb_smote_tm))\n",
    "print('MEA:', mean_absolute_error(y_test, y_xgb_smote_tm))\n",
    "print('ROC-AUC:', roc_auc_score(y_test, y_xgb_smote_tm))\n",
    "\n",
    "xgb_tm = np.array([accuracy_score(y_test, y_xgb_smote_tm), precision_score(y_test, y_xgb_smote_tm), recall_score(y_test, y_xgb_smote_tm), f1_score(y_test, y_xgb_smote_tm), mean_absolute_error(y_test, y_xgb_smote_tm), roc_auc_score(y_test, y_xgb_smote_tm)])"
   ]
  },
  {
   "cell_type": "code",
   "execution_count": 94,
   "metadata": {},
   "outputs": [
    {
     "data": {
      "text/html": [
       "<div>\n",
       "<style scoped>\n",
       "    .dataframe tbody tr th:only-of-type {\n",
       "        vertical-align: middle;\n",
       "    }\n",
       "\n",
       "    .dataframe tbody tr th {\n",
       "        vertical-align: top;\n",
       "    }\n",
       "\n",
       "    .dataframe thead th {\n",
       "        text-align: right;\n",
       "    }\n",
       "</style>\n",
       "<table border=\"1\" class=\"dataframe\">\n",
       "  <thead>\n",
       "    <tr style=\"text-align: right;\">\n",
       "      <th></th>\n",
       "      <th>SVM</th>\n",
       "      <th>XGB</th>\n",
       "      <th>SVM+SM</th>\n",
       "      <th>XGB+SM</th>\n",
       "      <th>SVM+SM+Tom</th>\n",
       "      <th>XGB+SM+Tom</th>\n",
       "    </tr>\n",
       "  </thead>\n",
       "  <tbody>\n",
       "    <tr>\n",
       "      <th>accuracy_score</th>\n",
       "      <td>0.8643</td>\n",
       "      <td>0.8697</td>\n",
       "      <td>0.7790</td>\n",
       "      <td>0.8117</td>\n",
       "      <td>0.7907</td>\n",
       "      <td>0.8003</td>\n",
       "    </tr>\n",
       "    <tr>\n",
       "      <th>precision_score</th>\n",
       "      <td>0.8400</td>\n",
       "      <td>0.7941</td>\n",
       "      <td>0.4737</td>\n",
       "      <td>0.5273</td>\n",
       "      <td>0.4903</td>\n",
       "      <td>0.5066</td>\n",
       "    </tr>\n",
       "    <tr>\n",
       "      <th>recall_score</th>\n",
       "      <td>0.4124</td>\n",
       "      <td>0.4861</td>\n",
       "      <td>0.7676</td>\n",
       "      <td>0.7267</td>\n",
       "      <td>0.7005</td>\n",
       "      <td>0.7545</td>\n",
       "    </tr>\n",
       "    <tr>\n",
       "      <th>f1_score</th>\n",
       "      <td>0.5532</td>\n",
       "      <td>0.6030</td>\n",
       "      <td>0.5859</td>\n",
       "      <td>0.6111</td>\n",
       "      <td>0.5768</td>\n",
       "      <td>0.6062</td>\n",
       "    </tr>\n",
       "    <tr>\n",
       "      <th>mean_absolute_error</th>\n",
       "      <td>0.1357</td>\n",
       "      <td>0.1303</td>\n",
       "      <td>0.2210</td>\n",
       "      <td>0.1883</td>\n",
       "      <td>0.2093</td>\n",
       "      <td>0.1997</td>\n",
       "    </tr>\n",
       "    <tr>\n",
       "      <th>roc_auc_score</th>\n",
       "      <td>0.6962</td>\n",
       "      <td>0.7269</td>\n",
       "      <td>0.7748</td>\n",
       "      <td>0.7800</td>\n",
       "      <td>0.7571</td>\n",
       "      <td>0.7833</td>\n",
       "    </tr>\n",
       "  </tbody>\n",
       "</table>\n",
       "</div>"
      ],
      "text/plain": [
       "                       SVM    XGB  SVM+SM  XGB+SM  SVM+SM+Tom  XGB+SM+Tom\n",
       "accuracy_score      0.8643 0.8697  0.7790  0.8117      0.7907      0.8003\n",
       "precision_score     0.8400 0.7941  0.4737  0.5273      0.4903      0.5066\n",
       "recall_score        0.4124 0.4861  0.7676  0.7267      0.7005      0.7545\n",
       "f1_score            0.5532 0.6030  0.5859  0.6111      0.5768      0.6062\n",
       "mean_absolute_error 0.1357 0.1303  0.2210  0.1883      0.2093      0.1997\n",
       "roc_auc_score       0.6962 0.7269  0.7748  0.7800      0.7571      0.7833"
      ]
     },
     "execution_count": 94,
     "metadata": {},
     "output_type": "execute_result"
    }
   ],
   "source": [
    "perf_label = ['accuracy_score', 'precision_score', 'recall_score', 'f1_score', 'mean_absolute_error', 'roc_auc_score']\n",
    "\n",
    "perf_df = pd.DataFrame(data = zip(svm_non, xgb_non, svm_with, xgb_with, svm_tm, xgb_tm), index = list(perf_label),columns = ['SVM', 'XGB', 'SVM+SM', 'XGB+SM', 'SVM+SM+Tom', 'XGB+SM+Tom'])\n",
    "perf_df"
   ]
  },
  {
   "cell_type": "markdown",
   "metadata": {},
   "source": [
    "Above table listed the performance across different methods on our imbalanced test data. We can see that while applying SMOTE and SMOTe-Tomek links on our training dataset does reduce the accuracy score and Mean Absolute Error of our prediction, it also does balance the overall performance of our precision and recall. The most notable changes is the decrease in precision score, but a much bigger improvement in recall score, which I would say is better in this case. After all, it is better to make sure that we can prevent as many customers as possible from leaving than making sure that we can prevent the most correctly customer that are leaving. Other than those two scores, the F1 score and AUC also improved when the training dataset are applied with over and undersampling marking an improvement in term of our churn predictor classification."
   ]
  }
 ],
 "metadata": {
  "kernelspec": {
   "display_name": "base",
   "language": "python",
   "name": "python3"
  },
  "language_info": {
   "codemirror_mode": {
    "name": "ipython",
    "version": 3
   },
   "file_extension": ".py",
   "mimetype": "text/x-python",
   "name": "python",
   "nbconvert_exporter": "python",
   "pygments_lexer": "ipython3",
   "version": "3.9.7"
  },
  "orig_nbformat": 4
 },
 "nbformat": 4,
 "nbformat_minor": 2
}
